{
 "cells": [
  {
   "cell_type": "markdown",
   "id": "4fdc0c3e-2a9e-425e-a6a7-bf9cf879680e",
   "metadata": {},
   "source": [
    "# Groundwork\n",
    "Dealing with tarot, here..."
   ]
  },
  {
   "cell_type": "code",
   "execution_count": 19,
   "id": "adaac2a5-65ec-4550-9d40-1dab27ad3c46",
   "metadata": {},
   "outputs": [
    {
     "name": "stdout",
     "output_type": "stream",
     "text": [
      "0 Fool\n",
      "1 Magician\n",
      "2 Priestess\n",
      "3 Empress\n",
      "4 Emperor\n",
      "5 Hierophant\n",
      "6 Lover\n",
      "7 Chariot\n",
      "8 Justice\n",
      "9 Hermit\n",
      "10 Wheel\n",
      "11 Strength\n",
      "12 HangedMan\n",
      "13 Death\n",
      "14 Temperance\n",
      "15 Devil\n",
      "16 Tower\n",
      "17 Star\n",
      "18 Moon\n",
      "19 Sun\n",
      "20 Judgement\n",
      "21 World\n"
     ]
    }
   ],
   "source": [
    "cards = '''Fool Magician Priestess Empress Emperor Hierophant Lover Chariot Justice Hermit Wheel\n",
    "         Strength HangedMan Death Temperance Devil Tower Star Moon Sun Judgement World'''.split()\n",
    "for (n,c) in enumerate(cards): print(n,c) "
   ]
  },
  {
   "cell_type": "markdown",
   "id": "444267fd-7d6f-41c7-ba6f-a8a96d2c21d5",
   "metadata": {},
   "source": [
    "We want to know what a number \"theosophically reduces\" to..."
   ]
  },
  {
   "cell_type": "code",
   "execution_count": 6,
   "id": "41025dfa-ddc9-40f8-b3a2-bc0751601ca1",
   "metadata": {},
   "outputs": [],
   "source": [
    "def reduction(n: int) -> int:\n",
    "    \"\"\"reduce to 1 digit\"\"\"\n",
    "    match n%9:\n",
    "        case 0 if n != 0: return 9\n",
    "        case n: return n"
   ]
  },
  {
   "cell_type": "code",
   "execution_count": 33,
   "id": "11dfe387-0d9c-43f6-a704-d1b9fa97faed",
   "metadata": {},
   "outputs": [
    {
     "name": "stdout",
     "output_type": "stream",
     "text": [
      "0 0\n",
      "1 1\n",
      "2 2\n",
      "3 3\n",
      "4 4\n",
      "5 5\n",
      "6 6\n",
      "7 7\n",
      "8 8\n",
      "9 9\n",
      "10 1\n",
      "11 2\n",
      "12 3\n",
      "13 4\n",
      "14 5\n",
      "15 6\n",
      "16 7\n",
      "17 8\n",
      "18 9\n",
      "19 1\n",
      "20 2\n",
      "21 3\n"
     ]
    }
   ],
   "source": [
    "for x in range(22):\n",
    "    print(x,reduction(x))"
   ]
  },
  {
   "cell_type": "markdown",
   "id": "5071fac1-7f64-4f5e-92fd-07cb505c656a",
   "metadata": {},
   "source": [
    "# Completion Cards\n",
    "Let's enumerate the cards that, when numerically added, reduce back down to unity."
   ]
  },
  {
   "cell_type": "code",
   "execution_count": 37,
   "id": "47b3e1c5-eb3f-40f3-893f-cec528f63520",
   "metadata": {},
   "outputs": [],
   "source": [
    "def completions(base: int, target: int = 1):\n",
    "    target = reduction(target)\n",
    "    return list(n for n in range(21) if reduction(base+n) == target)"
   ]
  },
  {
   "cell_type": "code",
   "execution_count": 52,
   "id": "d2dbc179-df57-4787-bd79-d5d957913721",
   "metadata": {},
   "outputs": [],
   "source": [
    "def all_completions(r = range(22), target: int = 1):\n",
    "    for x in r:\n",
    "        print(cards[x],list(cards[comp] for comp in completions(x, target)), sep=' -> ')"
   ]
  },
  {
   "cell_type": "code",
   "execution_count": 53,
   "id": "ce2bb741-571c-4062-97f3-3d8955b2a40b",
   "metadata": {},
   "outputs": [
    {
     "name": "stdout",
     "output_type": "stream",
     "text": [
      "Fool -> ['Magician', 'Wheel', 'Sun']\n",
      "Magician -> ['Fool', 'Hermit', 'Moon']\n",
      "Priestess -> ['Justice', 'Star']\n",
      "Empress -> ['Chariot', 'Tower']\n",
      "Emperor -> ['Lover', 'Devil']\n",
      "Hierophant -> ['Hierophant', 'Temperance']\n",
      "Lover -> ['Emperor', 'Death']\n",
      "Chariot -> ['Empress', 'HangedMan']\n",
      "Justice -> ['Priestess', 'Strength', 'Judgement']\n",
      "Hermit -> ['Magician', 'Wheel', 'Sun']\n",
      "Wheel -> ['Fool', 'Hermit', 'Moon']\n",
      "Strength -> ['Justice', 'Star']\n",
      "HangedMan -> ['Chariot', 'Tower']\n",
      "Death -> ['Lover', 'Devil']\n",
      "Temperance -> ['Hierophant', 'Temperance']\n",
      "Devil -> ['Emperor', 'Death']\n",
      "Tower -> ['Empress', 'HangedMan']\n",
      "Star -> ['Priestess', 'Strength', 'Judgement']\n",
      "Moon -> ['Magician', 'Wheel', 'Sun']\n",
      "Sun -> ['Fool', 'Hermit', 'Moon']\n",
      "Judgement -> ['Justice', 'Star']\n",
      "World -> ['Chariot', 'Tower']\n"
     ]
    }
   ],
   "source": [
    "all_completions()"
   ]
  },
  {
   "cell_type": "markdown",
   "id": "92b79724-1956-4c5d-a2b6-87a770049152",
   "metadata": {},
   "source": [
    "# Targeted Cards\n",
    "Going with Papus's arrangement of septenaries: (1-7),(7-13),(13-19)... what if we check the cards that \"complete\" a card by making their sum reduce to the end of the septenary (7,13,19)?"
   ]
  },
  {
   "cell_type": "code",
   "execution_count": 54,
   "id": "ec5f603e-427f-4223-8b37-3e2a166a33d1",
   "metadata": {},
   "outputs": [
    {
     "name": "stdout",
     "output_type": "stream",
     "text": [
      "Magician -> ['Lover', 'Devil']\n",
      "Priestess -> ['Hierophant', 'Temperance']\n",
      "Empress -> ['Emperor', 'Death']\n",
      "Emperor -> ['Empress', 'HangedMan']\n",
      "Hierophant -> ['Priestess', 'Strength', 'Judgement']\n",
      "Lover -> ['Magician', 'Wheel', 'Sun']\n"
     ]
    }
   ],
   "source": [
    "all_completions(range(1,7), 7)"
   ]
  },
  {
   "cell_type": "code",
   "execution_count": 55,
   "id": "063c28ba-4fa9-4569-8ab6-b1c2da015b9c",
   "metadata": {},
   "outputs": [
    {
     "name": "stdout",
     "output_type": "stream",
     "text": [
      "Chariot -> ['Lover', 'Devil']\n",
      "Justice -> ['Hierophant', 'Temperance']\n",
      "Hermit -> ['Emperor', 'Death']\n",
      "Wheel -> ['Empress', 'HangedMan']\n",
      "Strength -> ['Priestess', 'Strength', 'Judgement']\n",
      "HangedMan -> ['Magician', 'Wheel', 'Sun']\n"
     ]
    }
   ],
   "source": [
    "all_completions(range(7,13), 13)"
   ]
  },
  {
   "cell_type": "code",
   "execution_count": 56,
   "id": "b577646b-2765-4ca1-b777-7d6437b2dbd0",
   "metadata": {},
   "outputs": [
    {
     "name": "stdout",
     "output_type": "stream",
     "text": [
      "Death -> ['Lover', 'Devil']\n",
      "Temperance -> ['Hierophant', 'Temperance']\n",
      "Devil -> ['Emperor', 'Death']\n",
      "Tower -> ['Empress', 'HangedMan']\n",
      "Star -> ['Priestess', 'Strength', 'Judgement']\n",
      "Moon -> ['Magician', 'Wheel', 'Sun']\n"
     ]
    }
   ],
   "source": [
    "all_completions(range(13,19), 19)"
   ]
  },
  {
   "cell_type": "code",
   "execution_count": null,
   "id": "f3bd78fd-5639-4a12-9c83-f803a0b1dd4a",
   "metadata": {},
   "outputs": [],
   "source": []
  }
 ],
 "metadata": {
  "kernelspec": {
   "display_name": "Python 3 (ipykernel)",
   "language": "python",
   "name": "python3"
  },
  "language_info": {
   "codemirror_mode": {
    "name": "ipython",
    "version": 3
   },
   "file_extension": ".py",
   "mimetype": "text/x-python",
   "name": "python",
   "nbconvert_exporter": "python",
   "pygments_lexer": "ipython3",
   "version": "3.12.1"
  }
 },
 "nbformat": 4,
 "nbformat_minor": 5
}

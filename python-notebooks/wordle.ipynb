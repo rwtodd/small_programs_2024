{
 "cells": [
  {
   "cell_type": "markdown",
   "id": "2e56470e-9857-4170-835e-ec392bfb22dd",
   "metadata": {},
   "source": [
    "# Wordle Choices\n",
    "I'm trying to compare python and c# here.  I did a C# polyglot notebook of this exact same problem earlier today.\n",
    "\n",
    "## Get the Words"
   ]
  },
  {
   "cell_type": "code",
   "execution_count": 1,
   "id": "b6ed4257-6e17-43a0-900c-88fa3c3a782b",
   "metadata": {},
   "outputs": [],
   "source": [
    "from pathlib import Path\n",
    "words_path = Path.home().joinpath('OneDrive','DataFiles','words.txt')"
   ]
  },
  {
   "cell_type": "code",
   "execution_count": 2,
   "id": "620a90a7-1e3c-4193-9658-5745f20c5f53",
   "metadata": {},
   "outputs": [
    {
     "data": {
      "text/plain": [
       "9981"
      ]
     },
     "execution_count": 2,
     "metadata": {},
     "output_type": "execute_result"
    }
   ],
   "source": [
    "fivers = set()\n",
    "with open(words_path,'r') as words:\n",
    "    while (line := words.readline()):\n",
    "        line = line.strip()\n",
    "        if(len(line) == 5):\n",
    "            fivers.add(line.lower())\n",
    "len(fivers)"
   ]
  },
  {
   "cell_type": "markdown",
   "id": "b1138cb8-6be6-404b-b469-a5067a9424e1",
   "metadata": {},
   "source": [
    "Ok, that's ten-thousand words.  Good!"
   ]
  },
  {
   "cell_type": "markdown",
   "id": "727ece0a-64c5-4e57-9797-4f12ed77666f",
   "metadata": {},
   "source": [
    "## Count the letter frequency\n",
    "Instead of getting the english letter frequency from Google, I'm going to get the actual letter frequency from our 5-letter words.  That frequencies might be skewed differently."
   ]
  },
  {
   "cell_type": "code",
   "execution_count": 3,
   "id": "1e9b6da2-d713-48d5-b07b-c2220dc71dd1",
   "metadata": {},
   "outputs": [],
   "source": [
    "from collections import defaultdict"
   ]
  },
  {
   "cell_type": "code",
   "execution_count": 4,
   "id": "cc561336-1dd8-4674-b260-c9f3ed8e9b7d",
   "metadata": {},
   "outputs": [],
   "source": [
    "lcount = defaultdict(lambda: 0)\n",
    "for word in fivers:\n",
    "    for letter in word:\n",
    "        lcount[letter] += 1"
   ]
  },
  {
   "cell_type": "code",
   "execution_count": 5,
   "id": "71f1f3af-6f54-4bd7-a3dc-5fd8314761c8",
   "metadata": {},
   "outputs": [],
   "source": [
    "import matplotlib.pyplot as plt"
   ]
  },
  {
   "cell_type": "code",
   "execution_count": 24,
   "id": "4674ac52-64f9-43b5-8f7a-f2999969528d",
   "metadata": {},
   "outputs": [
    {
     "data": {
      "image/png": "[encoded data removed]",
      "text/plain": [
       "<Figure size 640x480 with 1 Axes>"
      ]
     },
     "metadata": {},
     "output_type": "display_data"
    }
   ],
   "source": [
    "total_letters = len(fivers)*5\n",
    "keyz = list(sorted(lcount.keys()))\n",
    "valz = list(100*lcount[k]/total_letters for k in keyz)\n",
    "\n",
    "plt.bar(keyz, valz, color ='blue', width = 0.4)\n",
    "plt.xlabel(\"letters\")\n",
    "plt.ylabel(\"frequency (%)\")\n",
    "plt.title(\"Letter Frequencies of 5-letter words\")\n",
    "plt.show()"
   ]
  },
  {
   "cell_type": "markdown",
   "id": "7a03efc8-e74f-4218-8da4-b6318bb0600b",
   "metadata": {},
   "source": [
    "## Score the choices\n",
    "\n",
    "I'm going to score the choices by getting a set of their letters, and then adding up the associated lcounts"
   ]
  },
  {
   "cell_type": "code",
   "execution_count": 7,
   "id": "f1113c5f-99a9-46e8-b684-753e27e56b3d",
   "metadata": {},
   "outputs": [],
   "source": [
    "from itertools import chain"
   ]
  },
  {
   "cell_type": "code",
   "execution_count": 8,
   "id": "beb60333-eeb4-4261-b72f-8c5e91320cac",
   "metadata": {},
   "outputs": [],
   "source": [
    "def score(values, *strs):\n",
    "    return sum(values[l] for l in set(chain(*strs)))"
   ]
  },
  {
   "cell_type": "markdown",
   "id": "97532887-020f-4011-ab96-31951d2101c6",
   "metadata": {},
   "source": [
    "## Generate all 2-word combinations"
   ]
  },
  {
   "cell_type": "code",
   "execution_count": 9,
   "id": "519b02f1-5280-414c-a786-19e270eb5a1f",
   "metadata": {},
   "outputs": [],
   "source": [
    "import heapq as h\n",
    "from itertools import combinations"
   ]
  },
  {
   "cell_type": "code",
   "execution_count": 10,
   "id": "03bd341f-ee54-485d-8d84-abbfe9658e83",
   "metadata": {},
   "outputs": [],
   "source": [
    "def calculate(values, n = 5):\n",
    "    queue = [[0, 'dummy']]*n\n",
    "    h.heapify(queue)\n",
    "    for (w1,w2) in combinations(fivers,2):\n",
    "        h.heappushpop(queue, [ score(values, w1, w2), w1, w2 ])\n",
    "    return queue"
   ]
  },
  {
   "cell_type": "code",
   "execution_count": 11,
   "id": "f3ec6c69-d0fd-4417-9a64-3b086111e4be",
   "metadata": {},
   "outputs": [
    {
     "data": {
      "text/plain": [
       "[[33544, 'urate', 'linos'],\n",
       " [33544, 'urial', 'onset'],\n",
       " [33544, 'ureal', 'stion'],\n",
       " [33544, 'urial', 'seton'],\n",
       " [33544, 'urine', 'stola'],\n",
       " [33544, 'urent', 'aliso'],\n",
       " [33544, 'urial', 'steno'],\n",
       " [33544, 'urnal', 'sotie'],\n",
       " [33544, 'urial', 'stone'],\n",
       " [33544, 'urite', 'sloan'],\n",
       " [33544, 'uster', 'aloin'],\n",
       " [33544, 'uteri', 'salon'],\n",
       " [33544, 'urite', 'salon'],\n",
       " [33544, 'urson', 'laeti'],\n",
       " [33544, 'urnae', 'islot'],\n",
       " [33544, 'urnal', 'toise'],\n",
       " [33544, 'uster', 'anoli'],\n",
       " [33544, 'uster', 'anoil'],\n",
       " [33544, 'uteri', 'sloan'],\n",
       " [33544, 'utile', 'sonar']]"
      ]
     },
     "execution_count": 11,
     "metadata": {},
     "output_type": "execute_result"
    }
   ],
   "source": [
    "calculate(lcount, n=20)"
   ]
  },
  {
   "cell_type": "markdown",
   "id": "14b5ec78-17fa-4747-84b2-f8a3a2ac9810",
   "metadata": {},
   "source": [
    "That's interesting, but I think we wanted to focus on consonants rather than vowels, so... let's zero-out the vowel scores:"
   ]
  },
  {
   "cell_type": "code",
   "execution_count": 13,
   "id": "883b32a5-3bb6-4167-bfcd-1ad58a1d520f",
   "metadata": {},
   "outputs": [],
   "source": [
    "novowel = lcount.copy()\n",
    "for l in \"aeiou\": novowel[l] = 0"
   ]
  },
  {
   "cell_type": "code",
   "execution_count": 14,
   "id": "e3342e15-e322-4f22-83c8-a82575c8b050",
   "metadata": {},
   "outputs": [
    {
     "data": {
      "text/plain": [
       "[[21066, 'strum', 'lynch'],\n",
       " [21129, 'darst', 'lynch'],\n",
       " [21129, 'darts', 'lynch'],\n",
       " [21129, 'dorts', 'lynch'],\n",
       " [21129, 'drest', 'lynch'],\n",
       " [21129, 'durst', 'lynch'],\n",
       " [21129, 'north', 'scyld'],\n",
       " [21129, 'strad', 'lynch'],\n",
       " [21129, 'strid', 'lynch'],\n",
       " [21129, 'thorn', 'scyld']]"
      ]
     },
     "execution_count": 14,
     "metadata": {},
     "output_type": "execute_result"
    }
   ],
   "source": [
    "sorted(calculate(novowel, 10))"
   ]
  },
  {
   "cell_type": "markdown",
   "id": "5b0d1d5d-5e75-4b95-95a1-e422a38c200c",
   "metadata": {},
   "source": [
    "## Continuations\n",
    "\n",
    "Ok, so let's go with \"lynch\" and \"darts\" ... what should the next word be, if we are completely flummoxed still?  Since we know 'a' and 'e' are the most common vowels, and we used an 'a' already. let's zero-out the vowels other than 'e' this time to force an 'e' in there:"
   ]
  },
  {
   "cell_type": "code",
   "execution_count": 15,
   "id": "df0b4737-5816-4e7b-b7e1-a15a4e07f84a",
   "metadata": {},
   "outputs": [],
   "source": [
    "third = lcount.copy()\n",
    "for l in \"lynchdartsiou\": third[l] = 0"
   ]
  },
  {
   "cell_type": "code",
   "execution_count": 16,
   "id": "cad2d27a-f9ae-4275-abf8-f9e5f1319297",
   "metadata": {},
   "outputs": [],
   "source": [
    "def calculate1(values, n = 5):\n",
    "    queue = [[0, 'dummy']]*n\n",
    "    h.heapify(queue)\n",
    "    for w in fivers:\n",
    "        h.heappushpop(queue, [ score(values, w), w ])\n",
    "    return queue"
   ]
  },
  {
   "cell_type": "code",
   "execution_count": 17,
   "id": "cfe67e94-d733-4871-b252-38f7ccef6eac",
   "metadata": {},
   "outputs": [
    {
     "data": {
      "text/plain": [
       "[[8322, 'befop'],\n",
       " [8338, 'bepaw'],\n",
       " [8468, 'embow'],\n",
       " [8917, 'kempt'],\n",
       " [8917, 'kempy'],\n",
       " [8917, 'skemp'],\n",
       " [8991, 'begem'],\n",
       " [8991, 'begum'],\n",
       " [8991, 'embog'],\n",
       " [9178, 'pombe']]"
      ]
     },
     "execution_count": 17,
     "metadata": {},
     "output_type": "execute_result"
    }
   ],
   "source": [
    "sorted(calculate1(third, 10))"
   ]
  },
  {
   "cell_type": "markdown",
   "id": "7e008351-e0d2-4f73-ab39-abbcac5e1547",
   "metadata": {},
   "source": [
    "Ok, 'pombe' it is... (btw it is a _fermented drink made with various kinds of grain_)"
   ]
  },
  {
   "cell_type": "code",
   "execution_count": 19,
   "id": "66e204c5-eedc-404a-8b00-86c57c920a0c",
   "metadata": {},
   "outputs": [],
   "source": [
    "fourth = lcount.copy()\n",
    "for l in \"lynchdartspombe\": fourth[l] = 0"
   ]
  },
  {
   "cell_type": "code",
   "execution_count": 20,
   "id": "5e11c641-7970-47cd-b36d-0889968ca306",
   "metadata": {},
   "outputs": [
    {
     "data": {
      "text/plain": [
       "[[6773, 'unrig'],\n",
       " [6891, 'khuzi'],\n",
       " [7006, 'guijo'],\n",
       " [7006, 'gulix'],\n",
       " [7310, 'kufic'],\n",
       " [7498, 'fingu'],\n",
       " [7498, 'fungi'],\n",
       " [7514, 'unwig'],\n",
       " [7849, 'gucki'],\n",
       " [7849, 'kingu']]"
      ]
     },
     "execution_count": 20,
     "metadata": {},
     "output_type": "execute_result"
    }
   ],
   "source": [
    "sorted(calculate1(fourth,10))"
   ]
  },
  {
   "cell_type": "markdown",
   "id": "88cd0a31-da9b-4c32-83df-40bcf68a31df",
   "metadata": {},
   "source": [
    "Of these, I chose 'fungi' since it is a word that Wordle will accept."
   ]
  },
  {
   "cell_type": "code",
   "execution_count": 21,
   "id": "3df77a80-226a-4167-ba8e-860e1d62cc11",
   "metadata": {},
   "outputs": [],
   "source": [
    "fifth = lcount.copy()\n",
    "for l in \"lynchdartspombefungi\": fifth[l] = 0"
   ]
  },
  {
   "cell_type": "code",
   "execution_count": 22,
   "id": "ddc5daa1-d626-414a-ae82-6947ce2aafbb",
   "metadata": {},
   "outputs": [
    {
     "data": {
      "text/plain": [
       "[[1817, 'wokas'],\n",
       " [1817, 'wonky'],\n",
       " [1817, 'works'],\n",
       " [1817, 'worky'],\n",
       " [1817, 'wrack'],\n",
       " [1817, 'wreak'],\n",
       " [1817, 'wreck'],\n",
       " [1817, 'wrick'],\n",
       " [1817, 'wroke'],\n",
       " [1915, 'quawk']]"
      ]
     },
     "execution_count": 22,
     "metadata": {},
     "output_type": "execute_result"
    }
   ],
   "source": [
    "sorted(calculate1(fifth,10))"
   ]
  },
  {
   "cell_type": "markdown",
   "id": "5f6ece5c-74b4-4efa-8a24-c4a344d4ebdd",
   "metadata": {},
   "source": [
    "So we will finish with 'quawk'!"
   ]
  },
  {
   "cell_type": "markdown",
   "id": "739e9a80-97f8-451a-8c14-1a06e9f47cd2",
   "metadata": {},
   "source": [
    "## Conclusion\n",
    "\n",
    "So, the words to try are:\n",
    "\n",
    "1. darts\n",
    "2. lynch\n",
    "3. pombe\n",
    "4. fungi\n",
    "5. quawk"
   ]
  },
  {
   "cell_type": "markdown",
   "id": "29a9d1e9-2382-4b39-b106-61cab41599c9",
   "metadata": {},
   "source": [
    "The only missing letters are: "
   ]
  },
  {
   "cell_type": "code",
   "execution_count": 23,
   "id": "7b156a3c-8f85-4aab-82d9-0e707ee950b7",
   "metadata": {},
   "outputs": [
    {
     "data": {
      "text/plain": [
       "{'j', 'v', 'x', 'z'}"
      ]
     },
     "execution_count": 23,
     "metadata": {},
     "output_type": "execute_result"
    }
   ],
   "source": [
    "set(\"abcdefghijklmnopqrstuvwxyz\") - set(\"dartslynchpombefungiquawk\")"
   ]
  },
  {
   "cell_type": "markdown",
   "id": "2b3a8633-4663-4ea0-bb27-daf9d2b7c316",
   "metadata": {},
   "source": [
    "In the worst case you could reach your last guess with all but 4 of the letters accounted for!"
   ]
  },
  {
   "cell_type": "markdown",
   "id": "8bca2cbe-3f81-49fb-b545-f0066bc7190a",
   "metadata": {},
   "source": [
    "### Regarding C#\n",
    "\n",
    "The 2-word `calculate` method in c# took around 31 to 33 seconds on this laptop.  The python equivalent took about 41 seconds.  So 33% slower.  However, generating the plot with `matplotlib` was __way__ easier than what you needed to do in C#."
   ]
  },
  {
   "cell_type": "code",
   "execution_count": null,
   "id": "295b58d7-5ff1-420f-a88f-4e3d27ee5d11",
   "metadata": {},
   "outputs": [],
   "source": []
  }
 ],
 "metadata": {
  "kernelspec": {
   "display_name": "Python 3 (ipykernel)",
   "language": "python",
   "name": "python3"
  },
  "language_info": {
   "codemirror_mode": {
    "name": "ipython",
    "version": 3
   },
   "file_extension": ".py",
   "mimetype": "text/x-python",
   "name": "python",
   "nbconvert_exporter": "python",
   "pygments_lexer": "ipython3",
   "version": "3.12.2"
  }
 },
 "nbformat": 4,
 "nbformat_minor": 5
}
